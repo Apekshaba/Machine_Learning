{
 "cells": [
  {
   "cell_type": "code",
   "execution_count": null,
   "metadata": {},
   "outputs": [
    {
     "name": "stdout",
     "output_type": "stream",
     "text": [
      "<class 'numpy.ndarray'>\n",
      "[[797 380  38  38]\n",
      " [443 215 106 106]\n",
      " [909 355  50  50]\n",
      " [495 683  48  48]\n",
      " [542 851  40  40]\n",
      " [825 555  56  56]\n",
      " [578 482  38  38]\n",
      " [395 962  64  64]]\n"
     ]
    }
   ],
   "source": [
    "import cv2\n",
    "\n",
    "face_cascade = cv2.CascadeClassifier(\"C:\\\\Users\\\\GOHIL\\\\anaconda3\\\\Lib\\\\site-packages\\\\cv2\\\\data\\\\haarcascade_frontalface_default.xml\")\n",
    "\n",
    "img = cv2.imread(\"C:\\\\Users\\\\GOHIL\\\\Pictures\\\\Saved Pictures\\\\sample.jpg\")\n",
    "\n",
    "gray_img = cv2.cvtColor(img,cv2.COLOR_BGR2GRAY)\n",
    "\n",
    "faces = face_cascade.detectMultiScale(gray_img,scaleFactor = 1.05, minNeighbors=5)\n",
    "\n",
    "print(type(faces))\n",
    "\n",
    "print(faces)\n",
    "\n",
    "for x,y,w,h in faces:\n",
    "    img = cv2.rectangle(img, (x,y), (x+w,y+h), (0,255,0), 3)\n",
    "\n",
    "# resized = cv2.resize(img,(int(img.shape[1]/2),int(img.shape[0]/2)))\n",
    "\n",
    "cv2.imshow(\"gray\",img)\n",
    "\n",
    "cv2.waitKey(0)\n",
    "\n",
    "cv2.destroyAllWindows()"
   ]
  },
  {
   "cell_type": "code",
   "execution_count": null,
   "metadata": {
    "scrolled": true
   },
   "outputs": [],
   "source": []
  },
  {
   "cell_type": "code",
   "execution_count": null,
   "metadata": {},
   "outputs": [],
   "source": []
  },
  {
   "cell_type": "code",
   "execution_count": null,
   "metadata": {},
   "outputs": [],
   "source": []
  }
 ],
 "metadata": {
  "kernelspec": {
   "display_name": "Python 3",
   "language": "python",
   "name": "python3"
  },
  "language_info": {
   "codemirror_mode": {
    "name": "ipython",
    "version": 3
   },
   "file_extension": ".py",
   "mimetype": "text/x-python",
   "name": "python",
   "nbconvert_exporter": "python",
   "pygments_lexer": "ipython3",
   "version": "3.8.2"
  }
 },
 "nbformat": 4,
 "nbformat_minor": 4
}
